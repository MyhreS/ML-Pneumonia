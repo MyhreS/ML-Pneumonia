{
 "cells": [
  {
   "cell_type": "markdown",
   "source": [
    "After manually balancing the data, this will check if checks that it is done correct."
   ],
   "metadata": {
    "collapsed": false,
    "pycharm": {
     "name": "#%% md\n"
    }
   }
  },
  {
   "cell_type": "code",
   "execution_count": 6,
   "metadata": {
    "collapsed": true,
    "pycharm": {
     "name": "#%%\n"
    }
   },
   "outputs": [],
   "source": [
    "import numpy as np\n",
    "import matplotlib.image as mpimg\n",
    "import glob"
   ]
  },
  {
   "cell_type": "code",
   "execution_count": 7,
   "outputs": [],
   "source": [
    "# Get paths to data\n",
    "train_normal_paths = glob.glob(\"../chest-xray-balanced/train/NORMAL/*\")\n",
    "train_pneumonia_paths = glob.glob(\"../chest-xray-balanced/train/PNEUMONIA/*\")\n",
    "\n",
    "test_normal_paths = glob.glob(\"../chest-xray-balanced/test/NORMAL/*\")\n",
    "test_pneumonia_paths = glob.glob(\"../chest-xray-balanced/test/PNEUMONIA/*\")\n",
    "\n",
    "val_normal_paths = glob.glob(\"../chest-xray-balanced/val/NORMAL/*\")\n",
    "val_pneumonia_paths = glob.glob(\"../chest-xray-balanced/val/PNEUMONIA/*\")"
   ],
   "metadata": {
    "collapsed": false,
    "pycharm": {
     "name": "#%%\n"
    }
   }
  },
  {
   "cell_type": "code",
   "execution_count": 8,
   "outputs": [
    {
     "name": "stderr",
     "output_type": "stream",
     "text": [
      "C:\\Users\\simon\\AppData\\Local\\Temp\\ipykernel_27028\\1421023903.py:5: VisibleDeprecationWarning: Creating an ndarray from ragged nested sequences (which is a list-or-tuple of lists-or-tuples-or ndarrays with different lengths or shapes) is deprecated. If you meant to do this, you must specify 'dtype=object' when creating the ndarray.\n",
      "  return np.array(images)\n"
     ]
    },
    {
     "name": "stdout",
     "output_type": "stream",
     "text": [
      "train_normal_images shape (1242,)\n",
      "train_pneumonia_images shape (1242,)\n",
      "test_normal_images shape (234,)\n",
      "test_pneumonia_images shape (234,)\n",
      "val_normal_images shape (107,)\n",
      "val_pneumonia_images shape (107,)\n"
     ]
    }
   ],
   "source": [
    "def read_images_from_path(images_path):\n",
    "    images = []\n",
    "    for image_path in images_path:\n",
    "        images.append(mpimg.imread(image_path))\n",
    "    return np.array(images)\n",
    "\n",
    "# Read images from path\n",
    "train_normal_images = read_images_from_path(train_normal_paths)\n",
    "train_pneumonia_images = read_images_from_path(train_pneumonia_paths)\n",
    "print(\"train_normal_images shape\", train_normal_images.shape)\n",
    "print(\"train_pneumonia_images shape\", train_pneumonia_images.shape)\n",
    "\n",
    "test_normal_images = read_images_from_path(test_normal_paths)\n",
    "test_pneumonia_images = read_images_from_path(test_pneumonia_paths)\n",
    "print(\"test_normal_images shape\", test_normal_images.shape)\n",
    "print(\"test_pneumonia_images shape\", test_pneumonia_images.shape)\n",
    "\n",
    "val_normal_images = read_images_from_path(val_normal_paths)\n",
    "val_pneumonia_images = read_images_from_path(val_pneumonia_paths)\n",
    "print(\"val_normal_images shape\", val_normal_images.shape)\n",
    "print(\"val_pneumonia_images shape\", val_pneumonia_images.shape)"
   ],
   "metadata": {
    "collapsed": false,
    "pycharm": {
     "name": "#%%\n"
    }
   }
  },
  {
   "cell_type": "markdown",
   "source": [
    "As we can se from the shapes, all the \"normal\" compared to \"pneumonia\" images has the same amount of images. This is good.\n",
    "In addition, after balancing there has been moved some training data over to validation data. This is good."
   ],
   "metadata": {
    "collapsed": false,
    "pycharm": {
     "name": "#%% md\n"
    }
   }
  },
  {
   "cell_type": "code",
   "execution_count": null,
   "outputs": [],
   "source": [],
   "metadata": {
    "collapsed": false,
    "pycharm": {
     "name": "#%%\n"
    }
   }
  }
 ],
 "metadata": {
  "kernelspec": {
   "display_name": "Python 3",
   "language": "python",
   "name": "python3"
  },
  "language_info": {
   "codemirror_mode": {
    "name": "ipython",
    "version": 2
   },
   "file_extension": ".py",
   "mimetype": "text/x-python",
   "name": "python",
   "nbconvert_exporter": "python",
   "pygments_lexer": "ipython2",
   "version": "2.7.6"
  }
 },
 "nbformat": 4,
 "nbformat_minor": 0
}